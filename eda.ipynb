{
 "cells": [
  {
   "cell_type": "code",
   "execution_count": 3,
   "id": "f8d213d2-1ddc-421f-b1bd-5c9258bfb731",
   "metadata": {},
   "outputs": [],
   "source": [
    "import pandas as pd\n",
    "import numpy as np\n",
    "import zipfile\n",
    "from sklearn.model_selection import train_test_split\n",
    "from sklearn.feature_selection import SelectKBest, mutual_info_classif\n",
    "from sklearn.linear_model import LogisticRegression\n",
    "from xgboost import XGBClassifier\n",
    "from sklearn.metrics import roc_auc_score"
   ]
  },
  {
   "cell_type": "code",
   "execution_count": 5,
   "id": "930bfbb3-b4d3-44c5-ac0d-8787e17f1b11",
   "metadata": {},
   "outputs": [
    {
     "name": "stdout",
     "output_type": "stream",
     "text": [
      "Файлы распакованы в: C:\\data\\PAKDD2010_extracted\n"
     ]
    }
   ],
   "source": [
    "zip_path = r'C:\\data\\PAKDD2010.zip'\n",
    "extract_folder = r'C:\\data\\PAKDD2010_extracted'\n",
    "\n",
    "with zipfile.ZipFile(zip_path, 'r') as zip_ref:\n",
    "    zip_ref.extractall(extract_folder)\n",
    "\n",
    "print(\"Файлы распакованы в:\", extract_folder)"
   ]
  },
  {
   "cell_type": "code",
   "execution_count": 7,
   "id": "dc3fb823-c1da-4528-a89c-df6005263291",
   "metadata": {
    "scrolled": true
   },
   "outputs": [
    {
     "name": "stdout",
     "output_type": "stream",
     "text": [
      "Содержимое ZIP-файла:\n",
      "File Name                                             Modified             Size\n",
      "PAKDD 2010/                                    2025-06-10 18:06:06            0\n",
      "PAKDD 2010/PAKDD-2010 training data.zip        2025-06-10 18:05:12      2106886\n",
      "PAKDD 2010/PAKDD2010_VariablesList.XLS         2025-06-10 18:05:12        25600\n",
      "PAKDD 2010/Prediction_Data.zip                 2025-06-10 18:05:12       833476\n"
     ]
    }
   ],
   "source": [
    "import zipfile\n",
    "\n",
    "zip_path = r'C:\\data\\PAKDD2010.zip'\n",
    "\n",
    "with zipfile.ZipFile(zip_path, 'r') as zip_ref:\n",
    "    print(\"Содержимое ZIP-файла:\")\n",
    "    zip_ref.printdir()"
   ]
  },
  {
   "cell_type": "code",
   "execution_count": 9,
   "id": "999b3933-d1be-4f8b-87a8-223bd0275b85",
   "metadata": {},
   "outputs": [
    {
     "name": "stdout",
     "output_type": "stream",
     "text": [
      "Содержимое внутреннего ZIP:\n",
      "File Name                                             Modified             Size\n",
      "PAKDD2010_Modeling_Data.txt                    2010-03-17 16:33:16      8394946\n"
     ]
    }
   ],
   "source": [
    "inner_zip_path = 'PAKDD 2010/PAKDD-2010 training data.zip'\n",
    "\n",
    "with zipfile.ZipFile(zip_path, 'r') as outer_zip:\n",
    "    with outer_zip.open(inner_zip_path) as inner_zip_file:\n",
    "        inner_zip = zipfile.ZipFile(inner_zip_file)\n",
    "        print(\"Содержимое внутреннего ZIP:\")\n",
    "        inner_zip.printdir()"
   ]
  },
  {
   "cell_type": "code",
   "execution_count": 11,
   "id": "8d022c2b-a041-43fa-8820-35f3a4a57dc8",
   "metadata": {
    "scrolled": true
   },
   "outputs": [
    {
     "name": "stdout",
     "output_type": "stream",
     "text": [
      "(49999, 54)\n",
      "   1  C   5    Web  0  1.1  F  6  1.2  0.1  ... 0.11 0.12  0.13 0.14 1.8 N.3  \\\n",
      "0  2  C  15  Carga  0    1  F  2    0    0  ...    0    0     0    0   1   N   \n",
      "1  3  C   5    Web  0    1  F  2    0    0  ...    0    0     0    0   1   N   \n",
      "2  4  C  20    Web  0    1  F  2    0    0  ...    0    0     0    0   1   N   \n",
      "3  5  C  10    Web  0    1  M  2    0    0  ...    0    0     0    0   1   N   \n",
      "4  6  C  10      0  0    1  M  2    0    0  ...    0    0     0    0   2   N   \n",
      "\n",
      "   32  595  595.1  1.9  \n",
      "0  34  230    230    1  \n",
      "1  27  591    591    0  \n",
      "2  61  545    545    0  \n",
      "3  48  235    235    1  \n",
      "4  40  371    371    1  \n",
      "\n",
      "[5 rows x 54 columns]\n"
     ]
    },
    {
     "name": "stderr",
     "output_type": "stream",
     "text": [
      "C:\\Users\\Admin\\AppData\\Local\\Temp\\ipykernel_10752\\2524740912.py:7: DtypeWarning: Columns (51,52) have mixed types. Specify dtype option on import or set low_memory=False.\n",
      "  df_train = pd.read_csv(file, sep='\\t', encoding='latin1')\n"
     ]
    }
   ],
   "source": [
    "with zipfile.ZipFile(zip_path, 'r') as outer_zip:\n",
    "    with outer_zip.open(inner_zip_path) as inner_zip_file:\n",
    "        inner_zip = zipfile.ZipFile(inner_zip_file)\n",
    "\n",
    "        # Открываем файл как байты и указываем кодировку при чтении\n",
    "        with inner_zip.open('PAKDD2010_Modeling_Data.txt') as file:\n",
    "            df_train = pd.read_csv(file, sep='\\t', encoding='latin1')\n",
    "            print(df_train.shape)\n",
    "            print(df_train.head())"
   ]
  },
  {
   "cell_type": "code",
   "execution_count": 13,
   "id": "2bba6796-7667-4cee-90ab-4556ca026814",
   "metadata": {},
   "outputs": [
    {
     "name": "stdout",
     "output_type": "stream",
     "text": [
      "Requirement already satisfied: xlrd in c:\\users\\admin\\anaconda3\\lib\\site-packages (2.0.2)\n",
      "Note: you may need to restart the kernel to use updated packages.\n"
     ]
    }
   ],
   "source": [
    "pip install xlrd"
   ]
  },
  {
   "cell_type": "code",
   "execution_count": 15,
   "id": "0ca1736e-4797-49eb-b2ba-d023ff2fc4b4",
   "metadata": {
    "scrolled": true
   },
   "outputs": [
    {
     "name": "stdout",
     "output_type": "stream",
     "text": [
      "   Var_Id                    Var_Title  \\\n",
      "0       1                    ID_CLIENT   \n",
      "1       2                   CLERK_TYPE   \n",
      "2       3                  PAYMENT_DAY   \n",
      "3       4  APPLICATION_SUBMISSION_TYPE   \n",
      "4       5       QUANT_ADDITIONAL_CARDS   \n",
      "\n",
      "                                     Var_Description  \\\n",
      "0  Sequential number for the applicant (to be use...   \n",
      "1                                       Not informed   \n",
      "2  Day of the month for bill payment, chosen by t...   \n",
      "3  Indicates if the application was submitted via...   \n",
      "4  Quantity of additional cards asked for in the ...   \n",
      "\n",
      "                       Field_Content  \n",
      "0  1-50000, 50001-70000, 70001-90000  \n",
      "1                                  C  \n",
      "2                    1,5,10,15,20,25  \n",
      "3                         Web, Carga  \n",
      "4                           1,2,NULL  \n"
     ]
    }
   ],
   "source": [
    "with zipfile.ZipFile(zip_path, 'r') as zip_ref:\n",
    "    with zip_ref.open('PAKDD 2010/PAKDD2010_VariablesList.XLS') as file:\n",
    "        df_vars = pd.read_excel(file)\n",
    "        print(df_vars.head())"
   ]
  },
  {
   "cell_type": "code",
   "execution_count": 17,
   "id": "60a32183-1e2d-4465-bec1-286b9019a20c",
   "metadata": {
    "scrolled": true
   },
   "outputs": [
    {
     "name": "stdout",
     "output_type": "stream",
     "text": [
      "   ID_CLIENT CLERK_TYPE  PAYMENT_DAY APPLICATION_SUBMISSION_TYPE  \\\n",
      "0          2          C           15                       Carga   \n",
      "1          3          C            5                         Web   \n",
      "2          4          C           20                         Web   \n",
      "3          5          C           10                         Web   \n",
      "4          6          C           10                           0   \n",
      "\n",
      "   QUANT_ADDITIONAL_CARDS  POSTAL_ADDRESS_TYPE SEX  MARITAL_STATUS  \\\n",
      "0                       0                    1   F               2   \n",
      "1                       0                    1   F               2   \n",
      "2                       0                    1   F               2   \n",
      "3                       0                    1   M               2   \n",
      "4                       0                    1   M               2   \n",
      "\n",
      "   QUANT_DEPENDANTS  EDUCATION_LEVEL  ... FLAG_HOME_ADDRESS_DOCUMENT FLAG_RG  \\\n",
      "0                 0                0  ...                          0       0   \n",
      "1                 0                0  ...                          0       0   \n",
      "2                 0                0  ...                          0       0   \n",
      "3                 0                0  ...                          0       0   \n",
      "4                 0                0  ...                          0       0   \n",
      "\n",
      "   FLAG_CPF FLAG_INCOME_PROOF PRODUCT FLAG_ACSP_RECORD AGE RESIDENCIAL_ZIP_3  \\\n",
      "0         0                 0       1                N  34               230   \n",
      "1         0                 0       1                N  27               591   \n",
      "2         0                 0       1                N  61               545   \n",
      "3         0                 0       1                N  48               235   \n",
      "4         0                 0       2                N  40               371   \n",
      "\n",
      "   PROFESSIONAL_ZIP_3  TARGET_LABEL_BAD=1  \n",
      "0                 230                   1  \n",
      "1                 591                   0  \n",
      "2                 545                   0  \n",
      "3                 235                   1  \n",
      "4                 371                   1  \n",
      "\n",
      "[5 rows x 54 columns]\n"
     ]
    }
   ],
   "source": [
    "# Создаем словарь {номер_столбца: Var_Title}\n",
    "column_mapping = dict(zip(df_vars['Var_Id'], df_vars['Var_Title']))\n",
    "\n",
    "# Применяем к датафрейму\n",
    "df_train.columns = [column_mapping.get(i+1, f\"col_{i+1}\") for i in range(df_train.shape[1])]\n",
    "\n",
    "# Проверяем\n",
    "print(df_train.head())"
   ]
  },
  {
   "cell_type": "code",
   "execution_count": 19,
   "id": "14d10f39-b368-4e3c-a8af-50a49b07a74b",
   "metadata": {},
   "outputs": [
    {
     "name": "stdout",
     "output_type": "stream",
     "text": [
      "    Var_Id           Var_Title  \\\n",
      "49      50    FLAG_ACSP_RECORD   \n",
      "53      54  TARGET_LABEL_BAD=1   \n",
      "\n",
      "                                      Var_Description Field_Content  \n",
      "49  Flag indicating if the applicant has any previ...          Y, N  \n",
      "53                     Target Variable: BAD=1, GOOD=0           NaN  \n"
     ]
    }
   ],
   "source": [
    "print(df_vars[df_vars['Var_Description'].str.contains('default|delinquency|target', case=False, na=False)])"
   ]
  },
  {
   "cell_type": "code",
   "execution_count": 21,
   "id": "3b302b46-6d3f-4e33-ad25-a8e43244593e",
   "metadata": {},
   "outputs": [
    {
     "name": "stdout",
     "output_type": "stream",
     "text": [
      "Уникальные значения в целевой переменной:\n",
      "[1 0]\n",
      "\n",
      "Количество пропущенных значений в целевой переменной:\n",
      "0\n"
     ]
    }
   ],
   "source": [
    "target_col = 'TARGET_LABEL_BAD=1'\n",
    "\n",
    "# Уникальные значения\n",
    "print(\"Уникальные значения в целевой переменной:\")\n",
    "print(df_train[target_col].unique())\n",
    "\n",
    "# Пропуски\n",
    "print(\"\\nКоличество пропущенных значений в целевой переменной:\")\n",
    "print(df_train[target_col].isna().sum())"
   ]
  },
  {
   "cell_type": "code",
   "execution_count": 23,
   "id": "d24feb48-2b20-4f64-8244-6490badd0172",
   "metadata": {},
   "outputs": [
    {
     "name": "stdout",
     "output_type": "stream",
     "text": [
      "\n",
      "Тип данных целевой переменной: int64\n"
     ]
    }
   ],
   "source": [
    "print(\"\\nТип данных целевой переменной:\", df_train[target_col].dtype)"
   ]
  },
  {
   "cell_type": "code",
   "execution_count": 25,
   "id": "336d0020-f16d-4d6e-b1bc-452f31353886",
   "metadata": {},
   "outputs": [],
   "source": [
    "# Удалим ID_CLIENT, если он не нужен для модели\n",
    "if 'ID_CLIENT' in df_train.columns:\n",
    "    df_train.drop('ID_CLIENT', axis=1, inplace=True)"
   ]
  },
  {
   "cell_type": "code",
   "execution_count": 27,
   "id": "f06702d8-cc2c-47a0-986e-0b2a6911f89f",
   "metadata": {},
   "outputs": [],
   "source": [
    "target_col = 'TARGET_LABEL_BAD=1'\n",
    "\n",
    "X = df_train.drop(columns=[target_col])\n",
    "y = df_train[target_col]"
   ]
  },
  {
   "cell_type": "code",
   "execution_count": 29,
   "id": "27de451e-5c9f-4b56-ac8b-5b69aab441fb",
   "metadata": {},
   "outputs": [
    {
     "name": "stdout",
     "output_type": "stream",
     "text": [
      "Категориальные признаки: ['ID_CLIENT', 'PAYMENT_DAY', 'APPLICATION_SUBMISSION_TYPE', 'QUANT_ADDITIONAL_CARDS', 'SEX', 'MARITAL_STATUS', 'QUANT_DEPENDANTS', 'EDUCATION_LEVEL', 'STATE_OF_BIRTH', 'NACIONALITY', 'FLAG_RESIDENCIAL_PHONE', 'RESIDENCE_TYPE', 'MONTHS_IN_RESIDENCE', 'FLAG_MOBILE_PHONE', 'FLAG_OTHER_CARDS', 'QUANT_BANKING_ACCOUNTS', 'QUANT_SPECIAL_BANKING_ACCOUNTS', 'COMPANY', 'FLAG_PROFESSIONAL_PHONE', 'PROFESSION_CODE', 'OCCUPATION_TYPE', 'MATE_PROFESSION_CODE', 'EDUCATION_LEVEL', 'PRODUCT', 'FLAG_ACSP_RECORD']\n"
     ]
    }
   ],
   "source": [
    "categorical_cols = df_vars[df_vars['Field_Content'].notna() &\n",
    "                           df_vars['Field_Content'].str.contains(',', na=False)]['Var_Title'].tolist()\n",
    "\n",
    "# Убедимся, что целевая переменная не попадает в список\n",
    "categorical_cols = [col for col in categorical_cols if col != target_col]\n",
    "\n",
    "print(\"Категориальные признаки:\", categorical_cols)"
   ]
  },
  {
   "cell_type": "code",
   "execution_count": 31,
   "id": "b9491d7c-ff50-4758-ab67-35f4da06cf01",
   "metadata": {},
   "outputs": [
    {
     "name": "stdout",
     "output_type": "stream",
     "text": [
      "Категориальные признаки: ['PAYMENT_DAY', 'APPLICATION_SUBMISSION_TYPE', 'QUANT_ADDITIONAL_CARDS', 'SEX', 'MARITAL_STATUS', 'QUANT_DEPENDANTS', 'EDUCATION_LEVEL', 'STATE_OF_BIRTH', 'NACIONALITY', 'FLAG_RESIDENCIAL_PHONE', 'RESIDENCE_TYPE', 'MONTHS_IN_RESIDENCE', 'FLAG_MOBILE_PHONE', 'FLAG_OTHER_CARDS', 'QUANT_BANKING_ACCOUNTS', 'QUANT_SPECIAL_BANKING_ACCOUNTS', 'COMPANY', 'FLAG_PROFESSIONAL_PHONE', 'PROFESSION_CODE', 'OCCUPATION_TYPE', 'MATE_PROFESSION_CODE', 'EDUCATION_LEVEL', 'PRODUCT', 'FLAG_ACSP_RECORD']\n"
     ]
    }
   ],
   "source": [
    "categorical_cols = df_vars[df_vars['Field_Content'].notna() &\n",
    "                           df_vars['Field_Content'].str.contains(',', na=False)]['Var_Title'].tolist()\n",
    "\n",
    "# Убедимся, что целевая переменная и несуществующие столбцы не попадают в список\n",
    "categorical_cols = [col for col in categorical_cols if col in X.columns and col != target_col]\n",
    "\n",
    "print(\"Категориальные признаки:\", categorical_cols)"
   ]
  },
  {
   "cell_type": "code",
   "execution_count": 33,
   "id": "99eb55b6-a5ee-4c37-8c9b-f1d870b580e1",
   "metadata": {},
   "outputs": [],
   "source": [
    "X = pd.get_dummies(X, columns=categorical_cols, drop_first=True)"
   ]
  },
  {
   "cell_type": "code",
   "execution_count": 35,
   "id": "36200b0d-4858-4c74-ada2-4aef3ca4d6af",
   "metadata": {},
   "outputs": [
    {
     "name": "stdout",
     "output_type": "stream",
     "text": [
      "Категориальные признаки: []\n"
     ]
    }
   ],
   "source": [
    "categorical_cols = df_vars[df_vars['Field_Content'].notna() &\n",
    "                           df_vars['Field_Content'].str.contains(',', na=False)]['Var_Title'].tolist()\n",
    "\n",
    "# Убедимся, что целевая переменная и несуществующие столбцы не попадают в список\n",
    "categorical_cols = [col for col in categorical_cols if col in X.columns and col != target_col]\n",
    "\n",
    "print(\"Категориальные признаки:\", categorical_cols)"
   ]
  },
  {
   "cell_type": "code",
   "execution_count": 37,
   "id": "d991ac37-4a08-47de-a027-1665116e7358",
   "metadata": {},
   "outputs": [
    {
     "name": "stdout",
     "output_type": "stream",
     "text": [
      "Текущая директория: C:\\Users\\Admin\n",
      "Файлы в текущей директории:\n",
      "['.anaconda', '.conda', '.condarc', '.continuum', '.docker', '.ipynb_checkpoints', '.ipython', '.jupyter', '.matplotlib', '.spyder-py3', '3D Objects', 'anaconda3', 'anaconda_projects', 'AppData', 'Application Data', 'catboost_credit_scoring_model.cbm', 'catboost_info', 'Contacts', 'Cookies', 'data', 'Desktop', 'Documents', 'Downloads', 'Favorites', 'IntelGraphicsProfiles', 'Jedi', 'Links', 'Local Settings', 'Music', 'mu_code', 'NetHood', 'NTUSER.DAT', 'ntuser.dat.LOG1', 'ntuser.dat.LOG2', 'NTUSER.DAT{9852813a-5d6c-11ec-9ed0-080027d53198}.TM.blf', 'NTUSER.DAT{9852813a-5d6c-11ec-9ed0-080027d53198}.TMContainer00000000000000000001.regtrans-ms', 'NTUSER.DAT{9852813a-5d6c-11ec-9ed0-080027d53198}.TMContainer00000000000000000002.regtrans-ms', 'ntuser.ini', 'Pictures', 'PrintHood', 'Python-Copy1.txt', 'Python-Copy2.txt', 'Python.txt', 'Recent', 'Saved Games', 'Searches', 'SendTo', 'submission_final.csv', 'Untitled Восемьдесят первый - 81.ipynb', 'Untitled Шестьдесят седьмой- 67.ipynb', 'Untitled Шестьдесят четвертый - 64.ipynb', 'Untitled Шестьдесят шестой - 66.ipynb', 'Untitled-100.ipynb', 'Untitled-99.ipynb', 'Untitled.ipynb', 'Untitled1.ipynb', 'Untitled10.ipynb', 'Untitled11.ipynb', 'Untitled12.ipynb', 'Untitled13.ipynb', 'Untitled14.ipynb', 'Untitled15.ipynb', 'Untitled2.ipynb', 'Untitled3.ipynb', 'Untitled4.ipynb', 'Untitled5.ipynb', 'Untitled6.ipynb', 'Untitled7.ipynb', 'Untitled8.ipynb', 'Untitled9.ipynb', 'UntitledВосемнадцатый.ipynb', 'UntitledВосемьдесят восьмойй - 88.ipynb', 'UntitledВосемьдесят второ1 -82.ipynb', 'UntitledВосемьдесят девятый - 89.ipynb', 'UntitledВосемьдесят пятый - 85.ipynb', 'UntitledВосемьдесят седьмойй -87.ipynb', 'UntitledВосемьдесят третий - 83.ipynb', 'UntitledВосемьдесят шестойй - 86.ipynb', 'UntitledВосепмьдесят четвертый - 84.ipynb', 'UntitledВосьмидесятыйй - 80.ipynb', 'UntitledДвадцатый.ipynb', 'UntitledДвадцать восьмой с ошибкой.ipynb', 'UntitledДвадцать второй.ipynb', 'UntitledДвадцать девятый.ipynb', 'UntitledДвадцать Первый.ipynb', 'UntitledДвадцать пятый.ipynb', 'UntitledДвадцать седьмой.ipynb', 'UntitledДвадцать третий.ipynb', 'UntitledДвадцать четвертый.ipynb', 'UntitledДвадцать шестой.ipynb', 'UntitledДвенадцатыйУровень.ipynb', 'UntitledДевяносто восьмой - 98.ipynb', 'UntitledДевяносто второй -92.ipynb', 'UntitledДевяносто первый - 91.ipynb', 'UntitledДевяносто пять - 95.ipynb', 'UntitledДевяносто седьмой -97.ipynb', 'UntitledДевяносто третий - 93.ipynb', 'UntitledДевяносто четвертый - 94.ipynb', 'UntitledДевяносто шестой - 96.ipynb', 'UntitledДевяностый -90.ipynb', 'UntitledДевятнадцатый с ошибкой.ipynb', 'UntitledДесятый уровень.ipynb', 'UntitledОдинадцатый.ipynb', 'UntitledПятидесятый - 50.ipynb', 'UntitledПятнадцатый.ipynb', 'UntitledПятьдесят восьмой - 58.ipynb', 'UntitledПятьдесят второй - 52.ipynb', 'UntitledПятьдесят девятый - 59.ipynb', 'UntitledПятьдесят первыйй - 51.ipynb', 'UntitledПятьдесят пятый - 55.ipynb', 'UntitledПятьдесят седьмой - 57.ipynb', 'UntitledПятьдесят третий - 53.ipynb', 'UntitledПятьдесят четвертый - 54.ipynb', 'UntitledПятьдесят шестой - 56.ipynb', 'UntitledСемнадцатый.ipynb', 'UntitledСемьдесят восьмой - 78.ipynb', 'UntitledСемьдесят второй - 72.ipynb', 'UntitledСемьдесят девятый -79.ipynb', 'UntitledСемьдесят первый - 71.ipynb', 'UntitledСемьдесят пятый -75.ipynb', 'UntitledСемьдесят седьмой - 77.ipynb', 'UntitledСемьдесят третий - 73.ipynb', 'UntitledСемьдесят четвертый - 74.ipynb', 'UntitledСемьдесят шестой - 76.ipynb', 'UntitledСемьдесятый - 70.ipynb', 'UntitledСорок восьмой - 48.ipynb', 'UntitledСорок второй - 42 .ipynb', 'UntitledСорок девятый - 49.ipynb', 'UntitledСорок первый.ipynb', 'UntitledСорок пятый - 45.ipynb', 'UntitledСорок седьмой - 47.ipynb', 'UntitledСорок третий - 43.ipynb', 'UntitledСорок четвертый - 44.ipynb', 'UntitledСорок шестой - 46.ipynb', 'UntitledСороковой.ipynb', 'UntitledТренадцатый.ipynb', 'UntitledТридцатый.ipynb', 'UntitledТридцать восьмой.ipynb', 'UntitledТридцать второй.ipynb', 'UntitledТридцать девятый.ipynb', 'UntitledТридцать первый.ipynb', 'UntitledТридцать пятый.ipynb', 'UntitledТридцать седьмой.ipynb', 'UntitledТридцать третий.ipynb', 'UntitledТридцать четвертый.ipynb', 'UntitledТридцать шестой.ipynb', 'UntitledЧетырнадцатый.ipynb', 'UntitledШестедесятый - 60.ipynb', 'UntitledШестнадцатый.ipynb', 'UntitledШестьдесят восьмой - 68.ipynb', 'UntitledШестьдесят вторая - 62.ipynb', 'UntitledШестьдесят девятый - 69.ipynb', 'UntitledШестьдесят первый - 61.ipynb', 'UntitledШестьдесят пятый - 65.ipynb', 'UntitledШестьдесят терретий - 63.ipynb', 'utils', 'Videos', 'world.txt', 'ВСЕ ЗАДАЧИ.ipynb', 'главное меню', 'ЗАДАЧИ.ipynb', 'модель.ipynb', 'Мои документы', 'мои_файлы', 'Шаблоны']\n"
     ]
    }
   ],
   "source": [
    "import os\n",
    "\n",
    "print(\"Текущая директория:\", os.getcwd())\n",
    "print(\"Файлы в текущей директории:\")\n",
    "print(os.listdir())"
   ]
  },
  {
   "cell_type": "code",
   "execution_count": null,
   "id": "0f1f4ec6-01b6-4c60-bfd3-b4a8507834eb",
   "metadata": {},
   "outputs": [],
   "source": []
  }
 ],
 "metadata": {
  "kernelspec": {
   "display_name": "Python [conda env:base] *",
   "language": "python",
   "name": "conda-base-py"
  },
  "language_info": {
   "codemirror_mode": {
    "name": "ipython",
    "version": 3
   },
   "file_extension": ".py",
   "mimetype": "text/x-python",
   "name": "python",
   "nbconvert_exporter": "python",
   "pygments_lexer": "ipython3",
   "version": "3.12.7"
  }
 },
 "nbformat": 4,
 "nbformat_minor": 5
}
